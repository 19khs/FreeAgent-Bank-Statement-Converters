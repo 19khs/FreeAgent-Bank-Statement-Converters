{
 "cells": [
  {
   "cell_type": "markdown",
   "metadata": {},
   "source": [
    "Before we start the conversion, please ensure you store this python programme file within the same folder as you store the original CSV statements downloaded from Starling Bank.\n",
    "\n",
    "This conversion will not work if the file you are wishing to convert and this python programme file are stored within seperate folders."
   ]
  },
  {
   "cell_type": "code",
   "execution_count": null,
   "metadata": {},
   "outputs": [],
   "source": [
    "import os\n",
    "import pandas as pd\n",
    "\n",
    "year = input(\"Please type the statement year:\")\n",
    "month = input(\"Please type the statement month?:\")\n",
    "file_name = input(\"Please copy and paste the full name of the CSV file you wish to convert, including the .CSV:\")\n",
    "\n",
    "sb_csv = pd.read_csv(f\"{file_name}\") \n",
    "\n",
    "clean_data = sb_csv[[\"Date\", \"Amount (GBP)\", \"Counter Party\", \"Reference\", \"Type\"]]\n",
    "\n",
    "fa_csv = open(f\"FAstatement{year}{month}.csv\",\"w\")\n",
    "clean_data.to_csv(f\"FAstatement{year}{month}.csv\", mode=\"a\", index=False, header=False)\n",
    "fa_csv.close()\n",
    "\n",
    "cwd = os.getcwd()\n",
    "\n",
    "print(f\"Your converted file has been saved as 'FAstatement{year}{month}.csv' within the following filepath:\", cwd)"
   ]
  }
 ],
 "metadata": {
  "interpreter": {
   "hash": "aee8b7b246df8f9039afb4144a1f6fd8d2ca17a180786b69acc140d282b71a49"
  },
  "kernelspec": {
   "display_name": "Python 3.9.7 64-bit",
   "language": "python",
   "name": "python3"
  },
  "language_info": {
   "codemirror_mode": {
    "name": "ipython",
    "version": 3
   },
   "file_extension": ".py",
   "mimetype": "text/x-python",
   "name": "python",
   "nbconvert_exporter": "python",
   "pygments_lexer": "ipython3",
   "version": "3.9.7"
  },
  "orig_nbformat": 4
 },
 "nbformat": 4,
 "nbformat_minor": 2
}
